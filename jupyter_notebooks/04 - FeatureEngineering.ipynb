{
  "cells": [
    {
      "cell_type": "markdown",
      "metadata": {
        "id": "0aStgWSO0E0E"
      },
      "source": [
        "# **(ADD THE NOTEBOOK NAME HERE)**"
      ]
    },
    {
      "cell_type": "markdown",
      "metadata": {
        "id": "1eLEkw5O0ECa"
      },
      "source": [
        "## Objectives\n",
        "\n",
        "* Write your notebook objective here, for example, \"Fetch data from Kaggle and save as raw data\", or \"engineer features for modelling\"\n",
        "\n",
        "## Inputs\n",
        "\n",
        "* Write here which data or information you need to run the notebook \n",
        "\n",
        "## Outputs\n",
        "\n",
        "* Write here which files, code or artefacts you generate by the end of the notebook \n",
        "\n",
        "## Additional Comments\n",
        "\n",
        "* In case you have any additional comments that don't fit in the previous bullets, please state them here. \n"
      ]
    },
    {
      "cell_type": "markdown",
      "metadata": {
        "id": "9uWZXH9LwoQg"
      },
      "source": [
        "---"
      ]
    },
    {
      "cell_type": "markdown",
      "metadata": {
        "id": "cqP-UeN-z3i2"
      },
      "source": [
        "# Change working directory"
      ]
    },
    {
      "cell_type": "markdown",
      "metadata": {},
      "source": [
        "* We are assuming you will store the notebooks in a subfolder, therefore when running the notebook in the editor, you will need to change the working directory"
      ]
    },
    {
      "cell_type": "markdown",
      "metadata": {
        "id": "aOGIGS-uz3i2"
      },
      "source": [
        "We need to change the working directory from its current folder to its parent folder\n",
        "* We access the current directory with os.getcwd()"
      ]
    },
    {
      "cell_type": "code",
      "execution_count": null,
      "metadata": {
        "id": "wZfF_j-Bz3i4",
        "outputId": "66943449-1436-4c3d-85c7-b85f9f78349b"
      },
      "outputs": [],
      "source": [
        "import os\n",
        "current_dir = os.getcwd()\n",
        "current_dir"
      ]
    },
    {
      "cell_type": "markdown",
      "metadata": {
        "id": "9MWW8E7lz3i7"
      },
      "source": [
        "We want to make the parent of the current directory the new current directory\n",
        "* os.path.dirname() gets the parent directory\n",
        "* os.chir() defines the new current directory"
      ]
    },
    {
      "cell_type": "code",
      "execution_count": null,
      "metadata": {
        "id": "TwHsQRWjz3i9",
        "outputId": "86849db3-cd2f-4cc5-ebb8-2d0caafa1a2c"
      },
      "outputs": [],
      "source": [
        "os.chdir(os.path.dirname(current_dir))\n",
        "print(\"You set a new current directory\")"
      ]
    },
    {
      "cell_type": "markdown",
      "metadata": {
        "id": "M_xPk_Ijz3i-"
      },
      "source": [
        "Confirm the new current directory"
      ]
    },
    {
      "cell_type": "code",
      "execution_count": null,
      "metadata": {
        "id": "vz3S-_kjz3jA",
        "outputId": "00b79ae4-75d0-4a96-d193-ac9ef9847ea2"
      },
      "outputs": [],
      "source": [
        "current_dir = os.getcwd()\n",
        "current_dir"
      ]
    },
    {
      "cell_type": "markdown",
      "metadata": {
        "id": "-mavJ8DibrcQ"
      },
      "source": [
        "# Backup"
      ]
    },
    {
      "cell_type": "code",
      "execution_count": null,
      "metadata": {},
      "outputs": [],
      "source": [
        "import pandas as pd\n",
        "import seaborn as sns\n",
        "import matplotlib.pyplot as plt\n",
        "\n",
        "# Assuming df is your original dataframe\n",
        "df_missing = df.copy()\n",
        "df_missing['BsmtExposure'] = df_missing['BsmtExposure'].fillna('Missing')\n",
        "\n",
        "# One-hot encode BsmtExposure\n",
        "df_encoded = pd.get_dummies(df_missing, columns=['BsmtExposure'], drop_first=True)\n",
        "\n",
        "# Calculate the correlation matrix\n",
        "correlation_matrix = df_encoded.corr()\n",
        "\n",
        "# Extract the correlations with SalePrice\n",
        "correlation_with_saleprice = correlation_matrix['SalePrice'].drop('SalePrice')\n",
        "\n",
        "# Plot the correlations with SalePrice\n",
        "plt.figure(figsize=(10, 6))\n",
        "sns.barplot(x=correlation_with_saleprice.values, y=correlation_with_saleprice.index, palette=\"viridis\")\n",
        "plt.title('Correlation of BsmtExposure Encoded Variables with SalePrice')\n",
        "plt.xlabel('Correlation coefficient')\n",
        "plt.ylabel('Encoded Variables')\n",
        "plt.show()"
      ]
    },
    {
      "cell_type": "code",
      "execution_count": null,
      "metadata": {},
      "outputs": [],
      "source": [
        "import matplotlib.pyplot as plt\n",
        "import seaborn as sns\n",
        "from scipy.stats import spearmanr\n",
        "\n",
        "def correlation_to_sale_price_spearman(df, vars_to_study):\n",
        "    \"\"\" Joint plots of variables vs SalePrice with Spearman correlation annotation \"\"\"\n",
        "    target_var = 'SalePrice'\n",
        "    \n",
        "    for col in vars_to_study:\n",
        "        # Calculate Spearman correlation\n",
        "        spearman_corr, p_value = spearmanr(df[col], df[target_var])\n",
        "        \n",
        "        # Create scatter plot with regression line\n",
        "        g = sns.lmplot(data=df, x=col, y=target_var, line_kws={'color': 'red'})\n",
        "        \n",
        "        # Set the title and labels\n",
        "        g.set_axis_labels(col, target_var, fontsize=15)\n",
        "        g.fig.suptitle(f\"{col} (Spearman: {spearman_corr:.2f}, p-value: {p_value:.2e})\", fontsize=20, y=1.05)\n",
        "        \n",
        "        plt.show()\n",
        "        print(\"\\n\\n\")"
      ]
    },
    {
      "cell_type": "code",
      "execution_count": null,
      "metadata": {},
      "outputs": [],
      "source": [
        "def correlation_to_sale_price_joint(df, vars_to_study):\n",
        "    \"\"\"  Joint plots of variables vs SalePrice \"\"\"\n",
        "    target_var = 'SalePrice'\n",
        "    for col in vars_to_study:\n",
        "        x, y, hue = col, target_var, 'OverallQual'\n",
        "        sns.jointplot(data=df, x=x, y=y, kind='hex')\n",
        "        # sns.jointplot(data=df, x=x, y=y, hue=hue)\n",
        "        plt.title(f\"{col}\", fontsize=20, y=1.3, x=-3)\n",
        "        plt.show()\n",
        "        print(\"\\n\\n\")\n",
        "\n",
        "\n",
        "correlation_to_sale_price_joint(df_eda, vars_to_study)"
      ]
    },
    {
      "cell_type": "code",
      "execution_count": null,
      "metadata": {},
      "outputs": [],
      "source": [
        "def correlation_to_sale_price_scat(df, vars_to_study):\n",
        "    \"\"\"  scatterplots of variables vs SalePrice \"\"\"\n",
        "    target_var = 'SalePrice'\n",
        "    for col in vars_to_study:\n",
        "        fig, axes = plt.subplots(figsize=(8, 5))\n",
        "        axes = sns.scatterplot(data=df, x=col, y=target_var, hue='OverallQual')\n",
        "        plt.title(f\"{col}\", fontsize=20, y=1.05)\n",
        "        plt.show()\n",
        "        print(\"\\n\\n\")\n",
        "\n",
        "correlation_to_sale_price_scat(df_eda, vars_to_study)"
      ]
    },
    {
      "cell_type": "code",
      "execution_count": null,
      "metadata": {},
      "outputs": [],
      "source": [
        "def correlation_to_sale_price_lm(df, vars_to_study):\n",
        "    \"\"\"  Joint plots of variables vs SalePrice \"\"\"\n",
        "    target_var = 'SalePrice'\n",
        "    for col in vars_to_study:\n",
        "        # fig, axes = plt.subplots(figsize=(8, 5))\n",
        "        sns.lmplot(data=df, x=col, y=target_var)\n",
        "        plt.title(f\"{col}\", fontsize=20, y=1.05)\n",
        "        plt.show()\n",
        "        print(\"\\n\\n\")\n",
        "\n",
        "correlation_to_sale_price_lm(df_eda, vars_to_study)"
      ]
    },
    {
      "cell_type": "code",
      "execution_count": null,
      "metadata": {},
      "outputs": [],
      "source": [
        "def correlation_to_sale_price_hist(df, vars_to_study):\n",
        "    \"\"\" Display correlation plot between variables and sale price \"\"\"\n",
        "    target_var = 'SalePrice'\n",
        "    for col in vars_to_study:\n",
        "        fig, axes = plt.subplots(figsize=(8, 5))\n",
        "        axes = sns.histplot(data=df, x=col, y=target_var)\n",
        "        plt.title(f\"{col}\", fontsize=20, y=1.05)\n",
        "        plt.show()\n",
        "        print(\"\\n\\n\")\n",
        "\n",
        "correlation_to_sale_price_hist(df_eda, vars_to_study)"
      ]
    },
    {
      "cell_type": "code",
      "execution_count": null,
      "metadata": {},
      "outputs": [],
      "source": [
        "non_integer_values_dict = {}\n",
        "\n",
        "for column in df.columns:\n",
        "    # Check if all values in the column are integers\n",
        "    if not df[column].apply(lambda x: isinstance(x, int)).all():\n",
        "        # Collect non-integer values, filtering out floats that don't start with '0.'\n",
        "        non_integer_values = df[column][~df[column].apply(lambda x: isinstance(x, int))]\n",
        "        non_integer_values = non_integer_values[~non_integer_values.apply(lambda x: isinstance(x, float) and not str(x).startswith('0.'))]\n",
        "        # Use a set to ensure uniqueness\n",
        "        unique_non_integer_values = set(non_integer_values)\n",
        "        non_integer_values_dict[column] = list(unique_non_integer_values)\n",
        "\n",
        "# Print the results\n",
        "for column, values in non_integer_values_dict.items():\n",
        "    print(f\"Non-integer values in {column}: {values}\")"
      ]
    },
    {
      "cell_type": "code",
      "execution_count": null,
      "metadata": {},
      "outputs": [],
      "source": [
        "import matplotlib.pyplot as plt\n",
        "\n",
        "# Fetch the top scores\n",
        "pps_topscores = pps_matrix.iloc[19].sort_values(key=abs, ascending=False)[1:11]\n",
        "\n",
        "# Print the values\n",
        "print(pps_topscores)\n",
        "\n",
        "# Plot the bar chart\n",
        "plt.bar(x=pps_topscores.index, height=pps_topscores)\n",
        "plt.xticks(rotation=90)\n",
        "plt.title(\"Predictive Power Score\", fontsize=20, y=1.05)\n",
        "\n",
        "# Annotate the bars with the values\n",
        "for index, value in enumerate(pps_topscores):\n",
        "    plt.text(index, value, f'{value:.2f}', ha='center', va='bottom')\n",
        "\n",
        "plt.show()"
      ]
    },
    {
      "cell_type": "code",
      "execution_count": null,
      "metadata": {},
      "outputs": [],
      "source": [
        "import pandas as pd\n",
        "import seaborn as sns\n",
        "import matplotlib.pyplot as plt\n",
        "\n",
        "# Assuming df is your original dataframe\n",
        "df_missing = df.copy()\n",
        "df_missing['BsmtExposure'] = df_missing['BsmtExposure'].fillna('Missing')\n",
        "df_missing['BsmtFinType1'] = df_missing['BsmtFinType1'].fillna('Missing')\n",
        "\n",
        "# Calculate the mean SalePrice for each BsmtExposure category\n",
        "mean_saleprice = df_missing.groupby('BsmtExposure')['SalePrice'].mean().reset_index()\n",
        "\n",
        "# Pivot the dataframe for the heatmap\n",
        "pivot_table = mean_saleprice.pivot(\"BsmtExposure\", \"SalePrice\", \"SalePrice\")\n",
        "\n",
        "# Create the heatmap\n",
        "plt.figure(figsize=(10, 6))\n",
        "sns.heatmap(pivot_table, annot=True, fmt=\".1f\", cmap=\"YlGnBu\")\n",
        "plt.title('Average Sale Price by BsmtExposure')\n",
        "plt.show()"
      ]
    },
    {
      "cell_type": "code",
      "execution_count": null,
      "metadata": {},
      "outputs": [],
      "source": [
        "import numpy as np\n",
        "import pandas as pd\n",
        "import matplotlib.pyplot as plt\n",
        "import seaborn as sns\n",
        "from scipy.stats import pearsonr, spearmanr, linregress\n",
        "from statsmodels.nonparametric.smoothers_lowess import lowess\n",
        "\n",
        "# Sample mapping for KitchenQual\n",
        "kitchen_qual_mapping = {'Ex': 4, 'Gd': 3, 'TA': 2, 'Fa': 1}\n",
        "\n",
        "# Transform the KitchenQual values to numerical values in the DataFrame\n",
        "df['KitchenQual_num'] = df['KitchenQual'].map(kitchen_qual_mapping)\n",
        "\n",
        "# Display the count of each category in KitchenQual\n",
        "print(df['KitchenQual'].value_counts())\n",
        "\n",
        "# Function to plot a variable against SalePrice with Pearson and Spearman trendlines\n",
        "def plot_with_trendlines(df, vars, target='SalePrice'):\n",
        "    num_vars = len(vars)\n",
        "    plt.figure(figsize=(16, 6 * num_vars))\n",
        "    \n",
        "    for i, var in enumerate(vars, 1):\n",
        "        x = df[var]\n",
        "        y = df[target]\n",
        "        \n",
        "        # Pearson correlation\n",
        "        pearson_coef, _ = pearsonr(x, y)\n",
        "        slope_pearson, intercept_pearson, _, _, _ = linregress(x, y)\n",
        "        line_pearson = slope_pearson * x + intercept_pearson\n",
        "        \n",
        "        # Spearman correlation\n",
        "        spearman_coef, _ = spearmanr(x, y)\n",
        "        lowess_smoothed = lowess(y, x, frac=0.3)\n",
        "        \n",
        "        # Plotting\n",
        "        plt.subplot(num_vars, 1, i)\n",
        "        sns.scatterplot(x=x, y=y, label='Data points')\n",
        "        \n",
        "        plt.plot(x, line_pearson, color='red', label=f'Pearson trendline (r={pearson_coef:.2f})')\n",
        "        plt.plot(lowess_smoothed[:, 0], lowess_smoothed[:, 1], color='blue', label=f'Spearman trendline (r={spearman_coef:.2f})')\n",
        "        \n",
        "        plt.xlabel(var)\n",
        "        plt.ylabel(target)\n",
        "        plt.title(f'{var} vs {target} with Pearson and Spearman Trendlines')\n",
        "        plt.legend()\n",
        "    \n",
        "    plt.tight_layout()\n",
        "    plt.show()\n",
        "\n",
        "# Example usage for multiple variables, including transformed KitchenQual\n",
        "variables = ['YearBuilt', 'OverallQual', 'KitchenQual_num']\n",
        "plot_with_trendlines(df, variables)"
      ]
    },
    {
      "cell_type": "markdown",
      "metadata": {},
      "source": [
        "Section 1 content"
      ]
    },
    {
      "cell_type": "code",
      "execution_count": null,
      "metadata": {},
      "outputs": [],
      "source": []
    },
    {
      "cell_type": "markdown",
      "metadata": {
        "id": "ZY3l0-AxO93d"
      },
      "source": [
        "---"
      ]
    },
    {
      "cell_type": "markdown",
      "metadata": {
        "id": "uFQo3ycuO-v6"
      },
      "source": [
        "# Section 2"
      ]
    },
    {
      "cell_type": "markdown",
      "metadata": {},
      "source": [
        "Section 2 content"
      ]
    },
    {
      "cell_type": "code",
      "execution_count": null,
      "metadata": {},
      "outputs": [],
      "source": []
    },
    {
      "cell_type": "markdown",
      "metadata": {},
      "source": [
        "---"
      ]
    },
    {
      "cell_type": "markdown",
      "metadata": {},
      "source": [
        "NOTE"
      ]
    },
    {
      "cell_type": "markdown",
      "metadata": {},
      "source": [
        "* You may add as many sections as you want, as long as they support your project workflow.\n",
        "* All notebook's cells should be run top-down (you can't create a dynamic wherein a given point you need to go back to a previous cell to execute some task, like go back to a previous cell and refresh a variable content)"
      ]
    },
    {
      "cell_type": "markdown",
      "metadata": {},
      "source": [
        "---"
      ]
    },
    {
      "cell_type": "markdown",
      "metadata": {
        "id": "ltNetd085qHf"
      },
      "source": [
        "# Push files to Repo"
      ]
    },
    {
      "cell_type": "markdown",
      "metadata": {},
      "source": [
        "* If you do not need to push files to Repo, you may replace this section with \"Conclusions and Next Steps\" and state your conclusions and next steps."
      ]
    },
    {
      "cell_type": "code",
      "execution_count": null,
      "metadata": {
        "id": "aKlnIozA4eQO",
        "outputId": "fd09bc1f-adb1-4511-f6ce-492a6af570c0"
      },
      "outputs": [],
      "source": [
        "import os\n",
        "try:\n",
        "  # create here your folder\n",
        "  # os.makedirs(name='')\n",
        "except Exception as e:\n",
        "  print(e)\n"
      ]
    }
  ],
  "metadata": {
    "accelerator": "GPU",
    "colab": {
      "name": "Data Practitioner Jupyter Notebook.ipynb",
      "provenance": [],
      "toc_visible": true
    },
    "interpreter": {
      "hash": "8b8334dab9339717f727a1deaf837b322d7a41c20d15cc86be99a8e69ceec8ce"
    },
    "kernelspec": {
      "display_name": "Python 3.8.12 64-bit ('3.8.12': pyenv)",
      "name": "python3"
    },
    "language_info": {
      "codemirror_mode": {
        "name": "ipython",
        "version": 3
      },
      "file_extension": ".py",
      "mimetype": "text/x-python",
      "name": "python",
      "nbconvert_exporter": "python",
      "pygments_lexer": "ipython3",
      "version": "3.8.12"
    },
    "orig_nbformat": 2
  },
  "nbformat": 4,
  "nbformat_minor": 2
}
